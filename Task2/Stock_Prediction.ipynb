{
  "cells": [
    {
      "cell_type": "markdown",
      "id": "d53f0e71",
      "metadata": {
        "id": "d53f0e71"
      },
      "source": [
        "# Task2: Stock Market Prediction (LGMVIP)"
      ]
    },
    {
      "cell_type": "markdown",
      "id": "02c9547c",
      "metadata": {
        "id": "02c9547c"
      },
      "source": [
        "### By: K . Pravalya"
      ]
    },
    {
      "cell_type": "code",
      "execution_count": 1,
      "id": "8eb4036b",
      "metadata": {
        "id": "8eb4036b"
      },
      "outputs": [],
      "source": [
        "#importing required libraries\n",
        "import pandas as pd\n",
        "import numpy as np"
      ]
    },
    {
      "cell_type": "code",
      "execution_count": 3,
      "id": "cf613bc6",
      "metadata": {
        "colab": {
          "base_uri": "https://localhost:8080/",
          "height": 206
        },
        "id": "cf613bc6",
        "outputId": "d449a4fc-a45b-411d-a140-e95fd2c6d82b"
      },
      "outputs": [
        {
          "output_type": "execute_result",
          "data": {
            "text/plain": [
              "         Date    Open    High     Low    Last   Close  Total Trade Quantity  \\\n",
              "0  2018-09-28  234.05  235.95  230.20  233.50  233.75               3069914   \n",
              "1  2018-09-27  234.55  236.80  231.10  233.80  233.25               5082859   \n",
              "2  2018-09-26  240.00  240.00  232.50  235.00  234.25               2240909   \n",
              "3  2018-09-25  233.30  236.75  232.00  236.25  236.10               2349368   \n",
              "4  2018-09-24  233.55  239.20  230.75  234.00  233.30               3423509   \n",
              "\n",
              "   Turnover (Lacs)  \n",
              "0          7162.35  \n",
              "1         11859.95  \n",
              "2          5248.60  \n",
              "3          5503.90  \n",
              "4          7999.55  "
            ],
            "text/html": [
              "\n",
              "  <div id=\"df-1eeda028-cf91-4bf8-b266-e409e953e8d4\">\n",
              "    <div class=\"colab-df-container\">\n",
              "      <div>\n",
              "<style scoped>\n",
              "    .dataframe tbody tr th:only-of-type {\n",
              "        vertical-align: middle;\n",
              "    }\n",
              "\n",
              "    .dataframe tbody tr th {\n",
              "        vertical-align: top;\n",
              "    }\n",
              "\n",
              "    .dataframe thead th {\n",
              "        text-align: right;\n",
              "    }\n",
              "</style>\n",
              "<table border=\"1\" class=\"dataframe\">\n",
              "  <thead>\n",
              "    <tr style=\"text-align: right;\">\n",
              "      <th></th>\n",
              "      <th>Date</th>\n",
              "      <th>Open</th>\n",
              "      <th>High</th>\n",
              "      <th>Low</th>\n",
              "      <th>Last</th>\n",
              "      <th>Close</th>\n",
              "      <th>Total Trade Quantity</th>\n",
              "      <th>Turnover (Lacs)</th>\n",
              "    </tr>\n",
              "  </thead>\n",
              "  <tbody>\n",
              "    <tr>\n",
              "      <th>0</th>\n",
              "      <td>2018-09-28</td>\n",
              "      <td>234.05</td>\n",
              "      <td>235.95</td>\n",
              "      <td>230.20</td>\n",
              "      <td>233.50</td>\n",
              "      <td>233.75</td>\n",
              "      <td>3069914</td>\n",
              "      <td>7162.35</td>\n",
              "    </tr>\n",
              "    <tr>\n",
              "      <th>1</th>\n",
              "      <td>2018-09-27</td>\n",
              "      <td>234.55</td>\n",
              "      <td>236.80</td>\n",
              "      <td>231.10</td>\n",
              "      <td>233.80</td>\n",
              "      <td>233.25</td>\n",
              "      <td>5082859</td>\n",
              "      <td>11859.95</td>\n",
              "    </tr>\n",
              "    <tr>\n",
              "      <th>2</th>\n",
              "      <td>2018-09-26</td>\n",
              "      <td>240.00</td>\n",
              "      <td>240.00</td>\n",
              "      <td>232.50</td>\n",
              "      <td>235.00</td>\n",
              "      <td>234.25</td>\n",
              "      <td>2240909</td>\n",
              "      <td>5248.60</td>\n",
              "    </tr>\n",
              "    <tr>\n",
              "      <th>3</th>\n",
              "      <td>2018-09-25</td>\n",
              "      <td>233.30</td>\n",
              "      <td>236.75</td>\n",
              "      <td>232.00</td>\n",
              "      <td>236.25</td>\n",
              "      <td>236.10</td>\n",
              "      <td>2349368</td>\n",
              "      <td>5503.90</td>\n",
              "    </tr>\n",
              "    <tr>\n",
              "      <th>4</th>\n",
              "      <td>2018-09-24</td>\n",
              "      <td>233.55</td>\n",
              "      <td>239.20</td>\n",
              "      <td>230.75</td>\n",
              "      <td>234.00</td>\n",
              "      <td>233.30</td>\n",
              "      <td>3423509</td>\n",
              "      <td>7999.55</td>\n",
              "    </tr>\n",
              "  </tbody>\n",
              "</table>\n",
              "</div>\n",
              "      <button class=\"colab-df-convert\" onclick=\"convertToInteractive('df-1eeda028-cf91-4bf8-b266-e409e953e8d4')\"\n",
              "              title=\"Convert this dataframe to an interactive table.\"\n",
              "              style=\"display:none;\">\n",
              "        \n",
              "  <svg xmlns=\"http://www.w3.org/2000/svg\" height=\"24px\"viewBox=\"0 0 24 24\"\n",
              "       width=\"24px\">\n",
              "    <path d=\"M0 0h24v24H0V0z\" fill=\"none\"/>\n",
              "    <path d=\"M18.56 5.44l.94 2.06.94-2.06 2.06-.94-2.06-.94-.94-2.06-.94 2.06-2.06.94zm-11 1L8.5 8.5l.94-2.06 2.06-.94-2.06-.94L8.5 2.5l-.94 2.06-2.06.94zm10 10l.94 2.06.94-2.06 2.06-.94-2.06-.94-.94-2.06-.94 2.06-2.06.94z\"/><path d=\"M17.41 7.96l-1.37-1.37c-.4-.4-.92-.59-1.43-.59-.52 0-1.04.2-1.43.59L10.3 9.45l-7.72 7.72c-.78.78-.78 2.05 0 2.83L4 21.41c.39.39.9.59 1.41.59.51 0 1.02-.2 1.41-.59l7.78-7.78 2.81-2.81c.8-.78.8-2.07 0-2.86zM5.41 20L4 18.59l7.72-7.72 1.47 1.35L5.41 20z\"/>\n",
              "  </svg>\n",
              "      </button>\n",
              "      \n",
              "  <style>\n",
              "    .colab-df-container {\n",
              "      display:flex;\n",
              "      flex-wrap:wrap;\n",
              "      gap: 12px;\n",
              "    }\n",
              "\n",
              "    .colab-df-convert {\n",
              "      background-color: #E8F0FE;\n",
              "      border: none;\n",
              "      border-radius: 50%;\n",
              "      cursor: pointer;\n",
              "      display: none;\n",
              "      fill: #1967D2;\n",
              "      height: 32px;\n",
              "      padding: 0 0 0 0;\n",
              "      width: 32px;\n",
              "    }\n",
              "\n",
              "    .colab-df-convert:hover {\n",
              "      background-color: #E2EBFA;\n",
              "      box-shadow: 0px 1px 2px rgba(60, 64, 67, 0.3), 0px 1px 3px 1px rgba(60, 64, 67, 0.15);\n",
              "      fill: #174EA6;\n",
              "    }\n",
              "\n",
              "    [theme=dark] .colab-df-convert {\n",
              "      background-color: #3B4455;\n",
              "      fill: #D2E3FC;\n",
              "    }\n",
              "\n",
              "    [theme=dark] .colab-df-convert:hover {\n",
              "      background-color: #434B5C;\n",
              "      box-shadow: 0px 1px 3px 1px rgba(0, 0, 0, 0.15);\n",
              "      filter: drop-shadow(0px 1px 2px rgba(0, 0, 0, 0.3));\n",
              "      fill: #FFFFFF;\n",
              "    }\n",
              "  </style>\n",
              "\n",
              "      <script>\n",
              "        const buttonEl =\n",
              "          document.querySelector('#df-1eeda028-cf91-4bf8-b266-e409e953e8d4 button.colab-df-convert');\n",
              "        buttonEl.style.display =\n",
              "          google.colab.kernel.accessAllowed ? 'block' : 'none';\n",
              "\n",
              "        async function convertToInteractive(key) {\n",
              "          const element = document.querySelector('#df-1eeda028-cf91-4bf8-b266-e409e953e8d4');\n",
              "          const dataTable =\n",
              "            await google.colab.kernel.invokeFunction('convertToInteractive',\n",
              "                                                     [key], {});\n",
              "          if (!dataTable) return;\n",
              "\n",
              "          const docLinkHtml = 'Like what you see? Visit the ' +\n",
              "            '<a target=\"_blank\" href=https://colab.research.google.com/notebooks/data_table.ipynb>data table notebook</a>'\n",
              "            + ' to learn more about interactive tables.';\n",
              "          element.innerHTML = '';\n",
              "          dataTable['output_type'] = 'display_data';\n",
              "          await google.colab.output.renderOutput(dataTable, element);\n",
              "          const docLink = document.createElement('div');\n",
              "          docLink.innerHTML = docLinkHtml;\n",
              "          element.appendChild(docLink);\n",
              "        }\n",
              "      </script>\n",
              "    </div>\n",
              "  </div>\n",
              "  "
            ]
          },
          "metadata": {},
          "execution_count": 3
        }
      ],
      "source": [
        "df=pd.read_csv('stock.csv')\n",
        "df.head()"
      ]
    },
    {
      "cell_type": "code",
      "execution_count": 4,
      "id": "f0317ca8",
      "metadata": {
        "colab": {
          "base_uri": "https://localhost:8080/",
          "height": 206
        },
        "id": "f0317ca8",
        "outputId": "40681c7d-098b-42d1-e519-c8baade2e664"
      },
      "outputs": [
        {
          "output_type": "execute_result",
          "data": {
            "text/plain": [
              "            Date   Open    High     Low    Last   Close  Total Trade Quantity  \\\n",
              "2030  2010-07-27  117.6  119.50  112.00  118.80  118.65                586100   \n",
              "2031  2010-07-26  120.1  121.00  117.10  117.10  117.60                658440   \n",
              "2032  2010-07-23  121.8  121.95  120.25  120.35  120.65                281312   \n",
              "2033  2010-07-22  120.3  122.00  120.25  120.75  120.90                293312   \n",
              "2034  2010-07-21  122.1  123.00  121.05  121.10  121.55                658666   \n",
              "\n",
              "      Turnover (Lacs)  \n",
              "2030           694.98  \n",
              "2031           780.01  \n",
              "2032           340.31  \n",
              "2033           355.17  \n",
              "2034           803.56  "
            ],
            "text/html": [
              "\n",
              "  <div id=\"df-e389c5d4-1e41-4530-ad7a-356c1dbb0c9d\">\n",
              "    <div class=\"colab-df-container\">\n",
              "      <div>\n",
              "<style scoped>\n",
              "    .dataframe tbody tr th:only-of-type {\n",
              "        vertical-align: middle;\n",
              "    }\n",
              "\n",
              "    .dataframe tbody tr th {\n",
              "        vertical-align: top;\n",
              "    }\n",
              "\n",
              "    .dataframe thead th {\n",
              "        text-align: right;\n",
              "    }\n",
              "</style>\n",
              "<table border=\"1\" class=\"dataframe\">\n",
              "  <thead>\n",
              "    <tr style=\"text-align: right;\">\n",
              "      <th></th>\n",
              "      <th>Date</th>\n",
              "      <th>Open</th>\n",
              "      <th>High</th>\n",
              "      <th>Low</th>\n",
              "      <th>Last</th>\n",
              "      <th>Close</th>\n",
              "      <th>Total Trade Quantity</th>\n",
              "      <th>Turnover (Lacs)</th>\n",
              "    </tr>\n",
              "  </thead>\n",
              "  <tbody>\n",
              "    <tr>\n",
              "      <th>2030</th>\n",
              "      <td>2010-07-27</td>\n",
              "      <td>117.6</td>\n",
              "      <td>119.50</td>\n",
              "      <td>112.00</td>\n",
              "      <td>118.80</td>\n",
              "      <td>118.65</td>\n",
              "      <td>586100</td>\n",
              "      <td>694.98</td>\n",
              "    </tr>\n",
              "    <tr>\n",
              "      <th>2031</th>\n",
              "      <td>2010-07-26</td>\n",
              "      <td>120.1</td>\n",
              "      <td>121.00</td>\n",
              "      <td>117.10</td>\n",
              "      <td>117.10</td>\n",
              "      <td>117.60</td>\n",
              "      <td>658440</td>\n",
              "      <td>780.01</td>\n",
              "    </tr>\n",
              "    <tr>\n",
              "      <th>2032</th>\n",
              "      <td>2010-07-23</td>\n",
              "      <td>121.8</td>\n",
              "      <td>121.95</td>\n",
              "      <td>120.25</td>\n",
              "      <td>120.35</td>\n",
              "      <td>120.65</td>\n",
              "      <td>281312</td>\n",
              "      <td>340.31</td>\n",
              "    </tr>\n",
              "    <tr>\n",
              "      <th>2033</th>\n",
              "      <td>2010-07-22</td>\n",
              "      <td>120.3</td>\n",
              "      <td>122.00</td>\n",
              "      <td>120.25</td>\n",
              "      <td>120.75</td>\n",
              "      <td>120.90</td>\n",
              "      <td>293312</td>\n",
              "      <td>355.17</td>\n",
              "    </tr>\n",
              "    <tr>\n",
              "      <th>2034</th>\n",
              "      <td>2010-07-21</td>\n",
              "      <td>122.1</td>\n",
              "      <td>123.00</td>\n",
              "      <td>121.05</td>\n",
              "      <td>121.10</td>\n",
              "      <td>121.55</td>\n",
              "      <td>658666</td>\n",
              "      <td>803.56</td>\n",
              "    </tr>\n",
              "  </tbody>\n",
              "</table>\n",
              "</div>\n",
              "      <button class=\"colab-df-convert\" onclick=\"convertToInteractive('df-e389c5d4-1e41-4530-ad7a-356c1dbb0c9d')\"\n",
              "              title=\"Convert this dataframe to an interactive table.\"\n",
              "              style=\"display:none;\">\n",
              "        \n",
              "  <svg xmlns=\"http://www.w3.org/2000/svg\" height=\"24px\"viewBox=\"0 0 24 24\"\n",
              "       width=\"24px\">\n",
              "    <path d=\"M0 0h24v24H0V0z\" fill=\"none\"/>\n",
              "    <path d=\"M18.56 5.44l.94 2.06.94-2.06 2.06-.94-2.06-.94-.94-2.06-.94 2.06-2.06.94zm-11 1L8.5 8.5l.94-2.06 2.06-.94-2.06-.94L8.5 2.5l-.94 2.06-2.06.94zm10 10l.94 2.06.94-2.06 2.06-.94-2.06-.94-.94-2.06-.94 2.06-2.06.94z\"/><path d=\"M17.41 7.96l-1.37-1.37c-.4-.4-.92-.59-1.43-.59-.52 0-1.04.2-1.43.59L10.3 9.45l-7.72 7.72c-.78.78-.78 2.05 0 2.83L4 21.41c.39.39.9.59 1.41.59.51 0 1.02-.2 1.41-.59l7.78-7.78 2.81-2.81c.8-.78.8-2.07 0-2.86zM5.41 20L4 18.59l7.72-7.72 1.47 1.35L5.41 20z\"/>\n",
              "  </svg>\n",
              "      </button>\n",
              "      \n",
              "  <style>\n",
              "    .colab-df-container {\n",
              "      display:flex;\n",
              "      flex-wrap:wrap;\n",
              "      gap: 12px;\n",
              "    }\n",
              "\n",
              "    .colab-df-convert {\n",
              "      background-color: #E8F0FE;\n",
              "      border: none;\n",
              "      border-radius: 50%;\n",
              "      cursor: pointer;\n",
              "      display: none;\n",
              "      fill: #1967D2;\n",
              "      height: 32px;\n",
              "      padding: 0 0 0 0;\n",
              "      width: 32px;\n",
              "    }\n",
              "\n",
              "    .colab-df-convert:hover {\n",
              "      background-color: #E2EBFA;\n",
              "      box-shadow: 0px 1px 2px rgba(60, 64, 67, 0.3), 0px 1px 3px 1px rgba(60, 64, 67, 0.15);\n",
              "      fill: #174EA6;\n",
              "    }\n",
              "\n",
              "    [theme=dark] .colab-df-convert {\n",
              "      background-color: #3B4455;\n",
              "      fill: #D2E3FC;\n",
              "    }\n",
              "\n",
              "    [theme=dark] .colab-df-convert:hover {\n",
              "      background-color: #434B5C;\n",
              "      box-shadow: 0px 1px 3px 1px rgba(0, 0, 0, 0.15);\n",
              "      filter: drop-shadow(0px 1px 2px rgba(0, 0, 0, 0.3));\n",
              "      fill: #FFFFFF;\n",
              "    }\n",
              "  </style>\n",
              "\n",
              "      <script>\n",
              "        const buttonEl =\n",
              "          document.querySelector('#df-e389c5d4-1e41-4530-ad7a-356c1dbb0c9d button.colab-df-convert');\n",
              "        buttonEl.style.display =\n",
              "          google.colab.kernel.accessAllowed ? 'block' : 'none';\n",
              "\n",
              "        async function convertToInteractive(key) {\n",
              "          const element = document.querySelector('#df-e389c5d4-1e41-4530-ad7a-356c1dbb0c9d');\n",
              "          const dataTable =\n",
              "            await google.colab.kernel.invokeFunction('convertToInteractive',\n",
              "                                                     [key], {});\n",
              "          if (!dataTable) return;\n",
              "\n",
              "          const docLinkHtml = 'Like what you see? Visit the ' +\n",
              "            '<a target=\"_blank\" href=https://colab.research.google.com/notebooks/data_table.ipynb>data table notebook</a>'\n",
              "            + ' to learn more about interactive tables.';\n",
              "          element.innerHTML = '';\n",
              "          dataTable['output_type'] = 'display_data';\n",
              "          await google.colab.output.renderOutput(dataTable, element);\n",
              "          const docLink = document.createElement('div');\n",
              "          docLink.innerHTML = docLinkHtml;\n",
              "          element.appendChild(docLink);\n",
              "        }\n",
              "      </script>\n",
              "    </div>\n",
              "  </div>\n",
              "  "
            ]
          },
          "metadata": {},
          "execution_count": 4
        }
      ],
      "source": [
        "df.tail()"
      ]
    },
    {
      "cell_type": "code",
      "execution_count": 6,
      "id": "b96c3b82",
      "metadata": {
        "colab": {
          "base_uri": "https://localhost:8080/"
        },
        "id": "b96c3b82",
        "outputId": "cfb805ef-63ba-4c0c-c3fa-a5affa7e70b6"
      },
      "outputs": [
        {
          "output_type": "execute_result",
          "data": {
            "text/plain": [
              "(2035, 8)"
            ]
          },
          "metadata": {},
          "execution_count": 6
        }
      ],
      "source": [
        "df.shape"
      ]
    },
    {
      "cell_type": "code",
      "execution_count": 28,
      "id": "f7fac1a3",
      "metadata": {
        "id": "f7fac1a3"
      },
      "outputs": [],
      "source": [
        "df1=df.reset_index()['High']"
      ]
    },
    {
      "cell_type": "code",
      "execution_count": 29,
      "id": "11fb57fb",
      "metadata": {
        "colab": {
          "base_uri": "https://localhost:8080/"
        },
        "id": "11fb57fb",
        "outputId": "09821f19-929c-4312-aaab-85d45ef48ed9"
      },
      "outputs": [
        {
          "output_type": "execute_result",
          "data": {
            "text/plain": [
              "0    235.95\n",
              "1    236.80\n",
              "2    240.00\n",
              "3    236.75\n",
              "4    239.20\n",
              "Name: High, dtype: float64"
            ]
          },
          "metadata": {},
          "execution_count": 29
        }
      ],
      "source": [
        "df1.head()"
      ]
    },
    {
      "cell_type": "code",
      "execution_count": 30,
      "id": "355438b2",
      "metadata": {
        "colab": {
          "base_uri": "https://localhost:8080/"
        },
        "id": "355438b2",
        "outputId": "108eed79-63f7-4aeb-f954-ca396b2f6e34"
      },
      "outputs": [
        {
          "output_type": "execute_result",
          "data": {
            "text/plain": [
              "(2035,)"
            ]
          },
          "metadata": {},
          "execution_count": 30
        }
      ],
      "source": [
        "df1.shape"
      ]
    },
    {
      "cell_type": "code",
      "execution_count": 31,
      "id": "31cc40cb",
      "metadata": {
        "colab": {
          "base_uri": "https://localhost:8080/",
          "height": 282
        },
        "id": "31cc40cb",
        "outputId": "05bf0761-dba7-4144-aa64-b71deec589cf"
      },
      "outputs": [
        {
          "output_type": "execute_result",
          "data": {
            "text/plain": [
              "[<matplotlib.lines.Line2D at 0x7f878d02b4d0>]"
            ]
          },
          "metadata": {},
          "execution_count": 31
        },
        {
          "output_type": "display_data",
          "data": {
            "text/plain": [
              "<Figure size 432x288 with 1 Axes>"
            ],
            "image/png": "[encoded data removed]"
          },
          "metadata": {
            "needs_background": "light"
          }
        }
      ],
      "source": [
        "from matplotlib import pyplot as plt\n",
        "plt.plot(df1)"
      ]
    },
    {
      "cell_type": "code",
      "execution_count": 32,
      "id": "06eb69bf",
      "metadata": {
        "id": "06eb69bf"
      },
      "outputs": [],
      "source": [
        "\n",
        "from sklearn.preprocessing import MinMaxScaler\n",
        "scaler=MinMaxScaler(feature_range=(0,1))\n",
        "df1=scaler.fit_transform(np.array(df1).reshape(-1,1))"
      ]
    },
    {
      "cell_type": "code",
      "execution_count": 33,
      "id": "0275db0d",
      "metadata": {
        "colab": {
          "base_uri": "https://localhost:8080/"
        },
        "id": "0275db0d",
        "outputId": "2c1d711f-bf6a-4432-d517-dc74e900e0c6"
      },
      "outputs": [
        {
          "output_type": "execute_result",
          "data": {
            "text/plain": [
              "array([[0.62268754],\n",
              "       [0.62614353],\n",
              "       [0.6391543 ],\n",
              "       ...,\n",
              "       [0.15917869],\n",
              "       [0.15938199],\n",
              "       [0.16344786]])"
            ]
          },
          "metadata": {},
          "execution_count": 33
        }
      ],
      "source": [
        "df1"
      ]
    },
    {
      "cell_type": "code",
      "execution_count": 34,
      "id": "6432b07a",
      "metadata": {
        "id": "6432b07a"
      },
      "outputs": [],
      "source": [
        "\n",
        "train_size=int(len(df1)*0.65)\n",
        "test_size=len(df1)-train_size\n",
        "train,test=df1[0:train_size,:],df1[train_size:len(df1),:1]"
      ]
    },
    {
      "cell_type": "code",
      "execution_count": 35,
      "id": "72d3fb84",
      "metadata": {
        "colab": {
          "base_uri": "https://localhost:8080/"
        },
        "id": "72d3fb84",
        "outputId": "c962c96b-6b9e-4cf8-b22d-7210e0128292"
      },
      "outputs": [
        {
          "output_type": "execute_result",
          "data": {
            "text/plain": [
              "1322"
            ]
          },
          "metadata": {},
          "execution_count": 35
        }
      ],
      "source": [
        "len(train)"
      ]
    },
    {
      "cell_type": "code",
      "execution_count": 36,
      "id": "8bc74d5d",
      "metadata": {
        "colab": {
          "base_uri": "https://localhost:8080/"
        },
        "id": "8bc74d5d",
        "outputId": "d99cfd39-7adf-4cba-f5f4-accae9c4118f"
      },
      "outputs": [
        {
          "output_type": "execute_result",
          "data": {
            "text/plain": [
              "713"
            ]
          },
          "metadata": {},
          "execution_count": 36
        }
      ],
      "source": [
        "len(test)"
      ]
    },
    {
      "cell_type": "code",
      "execution_count": 37,
      "id": "3b499f93",
      "metadata": {
        "id": "3b499f93"
      },
      "outputs": [],
      "source": [
        "\n",
        "def create(data,time=1):\n",
        "    dataX,dataY=[],[]\n",
        "    for i in range(len(data)-time-1):\n",
        "        a=data[i:(i+time),0]\n",
        "        dataX.append(a)\n",
        "        dataY.append(data[i + time,0])\n",
        "    return np.array(dataX),np.array(dataY)"
      ]
    },
    {
      "cell_type": "code",
      "execution_count": 38,
      "id": "72c591a0",
      "metadata": {
        "id": "72c591a0"
      },
      "outputs": [],
      "source": [
        "time=100\n",
        "X_train,y_train=create(train,time)\n",
        "X_test,y_test=create(test,time)"
      ]
    },
    {
      "cell_type": "code",
      "execution_count": 39,
      "id": "1da7456e",
      "metadata": {
        "colab": {
          "base_uri": "https://localhost:8080/"
        },
        "id": "1da7456e",
        "outputId": "0a8eddaa-bb99-4c7a-b317-3b09bd9af53c"
      },
      "outputs": [
        {
          "output_type": "execute_result",
          "data": {
            "text/plain": [
              "(1221, 100)"
            ]
          },
          "metadata": {},
          "execution_count": 39
        }
      ],
      "source": [
        "X_train.shape"
      ]
    },
    {
      "cell_type": "code",
      "execution_count": 40,
      "id": "6b311e36",
      "metadata": {
        "colab": {
          "base_uri": "https://localhost:8080/"
        },
        "id": "6b311e36",
        "outputId": "7983efeb-648e-4e6c-c345-84b27bc7342e"
      },
      "outputs": [
        {
          "output_type": "execute_result",
          "data": {
            "text/plain": [
              "(1221,)"
            ]
          },
          "metadata": {},
          "execution_count": 40
        }
      ],
      "source": [
        "y_train.shape"
      ]
    },
    {
      "cell_type": "code",
      "execution_count": 41,
      "id": "cb12beb0",
      "metadata": {
        "id": "cb12beb0"
      },
      "outputs": [],
      "source": [
        "\n",
        "X_train=X_train.reshape(X_train.shape[0],X_train.shape[1],1)\n",
        "X_test=X_test.reshape(X_test.shape[0],X_test.shape[1],1)"
      ]
    },
    {
      "cell_type": "code",
      "execution_count": 42,
      "id": "727d335a",
      "metadata": {
        "id": "727d335a"
      },
      "outputs": [],
      "source": [
        "\n",
        "from tensorflow.keras.models import Sequential\n",
        "from tensorflow.keras.layers import Dense \n",
        "from tensorflow.keras.layers import LSTM "
      ]
    },
    {
      "cell_type": "code",
      "execution_count": 43,
      "id": "2d3c5aff",
      "metadata": {
        "id": "2d3c5aff"
      },
      "outputs": [],
      "source": [
        "model=Sequential()\n",
        "model.add(LSTM(50,return_sequences=True,input_shape=(100,1)))\n",
        "model.add(LSTM(50,return_sequences=True))\n",
        "model.add(LSTM(50))\n",
        "model.add(Dense(1))\n",
        "model.compile(loss='mean_squared_error',optimizer='adam')"
      ]
    },
    {
      "cell_type": "code",
      "execution_count": 44,
      "id": "a1ccc342",
      "metadata": {
        "colab": {
          "base_uri": "https://localhost:8080/"
        },
        "id": "a1ccc342",
        "outputId": "bbc07f5e-5f75-443b-9ff3-014cb2929098"
      },
      "outputs": [
        {
          "output_type": "stream",
          "name": "stdout",
          "text": [
            "Model: \"sequential_1\"\n",
            "_________________________________________________________________\n",
            " Layer (type)                Output Shape              Param #   \n",
            "=================================================================\n",
            " lstm_3 (LSTM)               (None, 100, 50)           10400     \n",
            "                                                                 \n",
            " lstm_4 (LSTM)               (None, 100, 50)           20200     \n",
            "                                                                 \n",
            " lstm_5 (LSTM)               (None, 50)                20200     \n",
            "                                                                 \n",
            " dense_1 (Dense)             (None, 1)                 51        \n",
            "                                                                 \n",
            "=================================================================\n",
            "Total params: 50,851\n",
            "Trainable params: 50,851\n",
            "Non-trainable params: 0\n",
            "_________________________________________________________________\n"
          ]
        }
      ],
      "source": [
        "model.summary()"
      ]
    },
    {
      "cell_type": "code",
      "execution_count": 45,
      "id": "b1806300",
      "metadata": {
        "colab": {
          "base_uri": "https://localhost:8080/"
        },
        "id": "b1806300",
        "outputId": "4ec20521-0584-4d5e-854f-059ae02d1ca0"
      },
      "outputs": [
        {
          "output_type": "stream",
          "name": "stdout",
          "text": [
            "Epoch 1/100\n",
            "20/20 [==============================] - 11s 272ms/step - loss: 0.0309 - val_loss: 0.0033\n",
            "Epoch 2/100\n",
            "20/20 [==============================] - 4s 200ms/step - loss: 0.0035 - val_loss: 0.0016\n",
            "Epoch 3/100\n",
            "20/20 [==============================] - 4s 204ms/step - loss: 0.0020 - val_loss: 0.0012\n",
            "Epoch 4/100\n",
            "20/20 [==============================] - 4s 207ms/step - loss: 0.0017 - val_loss: 0.0010\n",
            "Epoch 5/100\n",
            "20/20 [==============================] - 4s 200ms/step - loss: 0.0016 - val_loss: 0.0013\n",
            "Epoch 6/100\n",
            "20/20 [==============================] - 4s 202ms/step - loss: 0.0015 - val_loss: 0.0011\n",
            "Epoch 7/100\n",
            "20/20 [==============================] - 4s 203ms/step - loss: 0.0014 - val_loss: 0.0012\n",
            "Epoch 8/100\n",
            "20/20 [==============================] - 4s 207ms/step - loss: 0.0014 - val_loss: 0.0014\n",
            "Epoch 9/100\n",
            "20/20 [==============================] - 4s 206ms/step - loss: 0.0018 - val_loss: 8.8472e-04\n",
            "Epoch 10/100\n",
            "20/20 [==============================] - 8s 394ms/step - loss: 0.0014 - val_loss: 0.0010\n",
            "Epoch 11/100\n",
            "20/20 [==============================] - 6s 322ms/step - loss: 0.0011 - val_loss: 0.0013\n",
            "Epoch 12/100\n",
            "20/20 [==============================] - 4s 215ms/step - loss: 0.0014 - val_loss: 9.0857e-04\n",
            "Epoch 13/100\n",
            "20/20 [==============================] - 4s 201ms/step - loss: 0.0011 - val_loss: 9.4493e-04\n",
            "Epoch 14/100\n",
            "20/20 [==============================] - 4s 204ms/step - loss: 0.0011 - val_loss: 9.1600e-04\n",
            "Epoch 15/100\n",
            "20/20 [==============================] - 4s 201ms/step - loss: 9.5632e-04 - val_loss: 8.0359e-04\n",
            "Epoch 16/100\n",
            "20/20 [==============================] - 4s 198ms/step - loss: 0.0012 - val_loss: 6.7535e-04\n",
            "Epoch 17/100\n",
            "20/20 [==============================] - 4s 198ms/step - loss: 9.4622e-04 - val_loss: 0.0011\n",
            "Epoch 18/100\n",
            "20/20 [==============================] - 4s 198ms/step - loss: 9.2415e-04 - val_loss: 0.0012\n",
            "Epoch 19/100\n",
            "20/20 [==============================] - 4s 197ms/step - loss: 0.0012 - val_loss: 9.4001e-04\n",
            "Epoch 20/100\n",
            "20/20 [==============================] - 4s 201ms/step - loss: 8.2739e-04 - val_loss: 8.8382e-04\n",
            "Epoch 21/100\n",
            "20/20 [==============================] - 4s 198ms/step - loss: 8.5526e-04 - val_loss: 7.9900e-04\n",
            "Epoch 22/100\n",
            "20/20 [==============================] - 4s 201ms/step - loss: 8.1240e-04 - val_loss: 0.0012\n",
            "Epoch 23/100\n",
            "20/20 [==============================] - 4s 204ms/step - loss: 9.6759e-04 - val_loss: 9.1699e-04\n",
            "Epoch 24/100\n",
            "20/20 [==============================] - 4s 200ms/step - loss: 7.5843e-04 - val_loss: 8.9740e-04\n",
            "Epoch 25/100\n",
            "20/20 [==============================] - 4s 200ms/step - loss: 7.5455e-04 - val_loss: 7.0287e-04\n",
            "Epoch 26/100\n",
            "20/20 [==============================] - 4s 200ms/step - loss: 7.0910e-04 - val_loss: 9.1324e-04\n",
            "Epoch 27/100\n",
            "20/20 [==============================] - 4s 202ms/step - loss: 7.5739e-04 - val_loss: 0.0011\n",
            "Epoch 28/100\n",
            "20/20 [==============================] - 4s 199ms/step - loss: 7.9084e-04 - val_loss: 7.5535e-04\n",
            "Epoch 29/100\n",
            "20/20 [==============================] - 4s 201ms/step - loss: 9.3529e-04 - val_loss: 6.1961e-04\n",
            "Epoch 30/100\n",
            "20/20 [==============================] - 4s 197ms/step - loss: 7.6846e-04 - val_loss: 8.9541e-04\n",
            "Epoch 31/100\n",
            "20/20 [==============================] - 5s 262ms/step - loss: 6.6772e-04 - val_loss: 7.0490e-04\n",
            "Epoch 32/100\n",
            "20/20 [==============================] - 4s 199ms/step - loss: 8.2435e-04 - val_loss: 5.9217e-04\n",
            "Epoch 33/100\n",
            "20/20 [==============================] - 4s 198ms/step - loss: 7.2781e-04 - val_loss: 7.7100e-04\n",
            "Epoch 34/100\n",
            "20/20 [==============================] - 4s 200ms/step - loss: 6.2409e-04 - val_loss: 8.3683e-04\n",
            "Epoch 35/100\n",
            "20/20 [==============================] - 4s 202ms/step - loss: 6.1235e-04 - val_loss: 6.8401e-04\n",
            "Epoch 36/100\n",
            "20/20 [==============================] - 4s 200ms/step - loss: 6.3939e-04 - val_loss: 8.2584e-04\n",
            "Epoch 37/100\n",
            "20/20 [==============================] - 4s 199ms/step - loss: 7.3708e-04 - val_loss: 6.5183e-04\n",
            "Epoch 38/100\n",
            "20/20 [==============================] - 4s 207ms/step - loss: 6.0091e-04 - val_loss: 5.6059e-04\n",
            "Epoch 39/100\n",
            "20/20 [==============================] - 4s 202ms/step - loss: 6.5480e-04 - val_loss: 6.5414e-04\n",
            "Epoch 40/100\n",
            "20/20 [==============================] - 4s 201ms/step - loss: 6.4778e-04 - val_loss: 8.1404e-04\n",
            "Epoch 41/100\n",
            "20/20 [==============================] - 4s 200ms/step - loss: 7.2866e-04 - val_loss: 8.8859e-04\n",
            "Epoch 42/100\n",
            "20/20 [==============================] - 4s 200ms/step - loss: 6.0732e-04 - val_loss: 6.6662e-04\n",
            "Epoch 43/100\n",
            "20/20 [==============================] - 4s 198ms/step - loss: 6.7179e-04 - val_loss: 7.4519e-04\n",
            "Epoch 44/100\n",
            "20/20 [==============================] - 4s 197ms/step - loss: 6.6746e-04 - val_loss: 6.2430e-04\n",
            "Epoch 45/100\n",
            "20/20 [==============================] - 4s 194ms/step - loss: 5.8242e-04 - val_loss: 6.8273e-04\n",
            "Epoch 46/100\n",
            "20/20 [==============================] - 4s 196ms/step - loss: 5.3943e-04 - val_loss: 5.7703e-04\n",
            "Epoch 47/100\n",
            "20/20 [==============================] - 4s 195ms/step - loss: 5.3821e-04 - val_loss: 6.0675e-04\n",
            "Epoch 48/100\n",
            "20/20 [==============================] - 4s 195ms/step - loss: 5.1657e-04 - val_loss: 5.3165e-04\n",
            "Epoch 49/100\n",
            "20/20 [==============================] - 4s 196ms/step - loss: 5.1380e-04 - val_loss: 6.1630e-04\n",
            "Epoch 50/100\n",
            "20/20 [==============================] - 4s 202ms/step - loss: 5.4021e-04 - val_loss: 5.2688e-04\n",
            "Epoch 51/100\n",
            "20/20 [==============================] - 4s 204ms/step - loss: 5.2310e-04 - val_loss: 7.0740e-04\n",
            "Epoch 52/100\n",
            "20/20 [==============================] - 5s 259ms/step - loss: 5.7163e-04 - val_loss: 5.6674e-04\n",
            "Epoch 53/100\n",
            "20/20 [==============================] - 4s 198ms/step - loss: 5.0566e-04 - val_loss: 4.5632e-04\n",
            "Epoch 54/100\n",
            "20/20 [==============================] - 4s 197ms/step - loss: 5.0083e-04 - val_loss: 6.4084e-04\n",
            "Epoch 55/100\n",
            "20/20 [==============================] - 4s 198ms/step - loss: 5.0221e-04 - val_loss: 4.5395e-04\n",
            "Epoch 56/100\n",
            "20/20 [==============================] - 4s 196ms/step - loss: 4.4398e-04 - val_loss: 5.0967e-04\n",
            "Epoch 57/100\n",
            "20/20 [==============================] - 4s 199ms/step - loss: 4.3211e-04 - val_loss: 4.3161e-04\n",
            "Epoch 58/100\n",
            "20/20 [==============================] - 4s 203ms/step - loss: 4.8001e-04 - val_loss: 5.9057e-04\n",
            "Epoch 59/100\n",
            "20/20 [==============================] - 4s 198ms/step - loss: 4.7318e-04 - val_loss: 4.3075e-04\n",
            "Epoch 60/100\n",
            "20/20 [==============================] - 4s 200ms/step - loss: 4.1905e-04 - val_loss: 7.4863e-04\n",
            "Epoch 61/100\n",
            "20/20 [==============================] - 4s 201ms/step - loss: 6.1875e-04 - val_loss: 6.8176e-04\n",
            "Epoch 62/100\n",
            "20/20 [==============================] - 4s 201ms/step - loss: 4.9489e-04 - val_loss: 3.6658e-04\n",
            "Epoch 63/100\n",
            "20/20 [==============================] - 4s 203ms/step - loss: 4.3590e-04 - val_loss: 4.1197e-04\n",
            "Epoch 64/100\n",
            "20/20 [==============================] - 4s 197ms/step - loss: 3.9156e-04 - val_loss: 4.4513e-04\n",
            "Epoch 65/100\n",
            "20/20 [==============================] - 4s 201ms/step - loss: 4.1304e-04 - val_loss: 3.6039e-04\n",
            "Epoch 66/100\n",
            "20/20 [==============================] - 4s 197ms/step - loss: 3.9761e-04 - val_loss: 3.5936e-04\n",
            "Epoch 67/100\n",
            "20/20 [==============================] - 4s 200ms/step - loss: 3.7850e-04 - val_loss: 4.0004e-04\n",
            "Epoch 68/100\n",
            "20/20 [==============================] - 4s 198ms/step - loss: 3.5279e-04 - val_loss: 4.1657e-04\n",
            "Epoch 69/100\n",
            "20/20 [==============================] - 4s 197ms/step - loss: 3.9480e-04 - val_loss: 5.2961e-04\n",
            "Epoch 70/100\n",
            "20/20 [==============================] - 4s 200ms/step - loss: 3.6666e-04 - val_loss: 3.5151e-04\n",
            "Epoch 71/100\n",
            "20/20 [==============================] - 4s 201ms/step - loss: 3.6476e-04 - val_loss: 4.9107e-04\n",
            "Epoch 72/100\n",
            "20/20 [==============================] - 4s 208ms/step - loss: 3.3921e-04 - val_loss: 3.2771e-04\n",
            "Epoch 73/100\n",
            "20/20 [==============================] - 4s 216ms/step - loss: 3.3386e-04 - val_loss: 3.1263e-04\n",
            "Epoch 74/100\n",
            "20/20 [==============================] - 4s 205ms/step - loss: 7.3629e-04 - val_loss: 3.6434e-04\n",
            "Epoch 75/100\n",
            "20/20 [==============================] - 4s 198ms/step - loss: 3.5841e-04 - val_loss: 4.4645e-04\n",
            "Epoch 76/100\n",
            "20/20 [==============================] - 4s 201ms/step - loss: 3.4182e-04 - val_loss: 3.0591e-04\n",
            "Epoch 77/100\n",
            "20/20 [==============================] - 4s 201ms/step - loss: 3.2406e-04 - val_loss: 3.3242e-04\n",
            "Epoch 78/100\n",
            "20/20 [==============================] - 4s 198ms/step - loss: 3.3422e-04 - val_loss: 2.5800e-04\n",
            "Epoch 79/100\n",
            "20/20 [==============================] - 4s 196ms/step - loss: 3.1716e-04 - val_loss: 3.4458e-04\n",
            "Epoch 80/100\n",
            "20/20 [==============================] - 4s 198ms/step - loss: 2.8633e-04 - val_loss: 3.0133e-04\n",
            "Epoch 81/100\n",
            "20/20 [==============================] - 4s 199ms/step - loss: 2.7792e-04 - val_loss: 4.8809e-04\n",
            "Epoch 82/100\n",
            "20/20 [==============================] - 4s 199ms/step - loss: 4.9190e-04 - val_loss: 3.4889e-04\n",
            "Epoch 83/100\n",
            "20/20 [==============================] - 4s 198ms/step - loss: 2.6459e-04 - val_loss: 3.1926e-04\n",
            "Epoch 84/100\n",
            "20/20 [==============================] - 4s 197ms/step - loss: 2.6102e-04 - val_loss: 2.5914e-04\n",
            "Epoch 85/100\n",
            "20/20 [==============================] - 4s 200ms/step - loss: 4.0359e-04 - val_loss: 2.6636e-04\n",
            "Epoch 86/100\n",
            "20/20 [==============================] - 4s 199ms/step - loss: 4.3662e-04 - val_loss: 2.9287e-04\n",
            "Epoch 87/100\n",
            "20/20 [==============================] - 4s 201ms/step - loss: 2.6641e-04 - val_loss: 2.8056e-04\n",
            "Epoch 88/100\n",
            "20/20 [==============================] - 4s 203ms/step - loss: 2.7429e-04 - val_loss: 2.6861e-04\n",
            "Epoch 89/100\n",
            "20/20 [==============================] - 4s 203ms/step - loss: 2.7420e-04 - val_loss: 2.3152e-04\n",
            "Epoch 90/100\n",
            "20/20 [==============================] - 4s 201ms/step - loss: 2.4286e-04 - val_loss: 2.8815e-04\n",
            "Epoch 91/100\n",
            "20/20 [==============================] - 4s 200ms/step - loss: 2.5447e-04 - val_loss: 2.2656e-04\n",
            "Epoch 92/100\n",
            "20/20 [==============================] - 4s 201ms/step - loss: 2.3517e-04 - val_loss: 2.2300e-04\n",
            "Epoch 93/100\n",
            "20/20 [==============================] - 5s 251ms/step - loss: 2.5469e-04 - val_loss: 2.5470e-04\n",
            "Epoch 94/100\n",
            "20/20 [==============================] - 4s 202ms/step - loss: 2.2902e-04 - val_loss: 2.6095e-04\n",
            "Epoch 95/100\n",
            "20/20 [==============================] - 4s 208ms/step - loss: 2.3850e-04 - val_loss: 2.5728e-04\n",
            "Epoch 96/100\n",
            "20/20 [==============================] - 4s 198ms/step - loss: 2.4379e-04 - val_loss: 3.2117e-04\n",
            "Epoch 97/100\n",
            "20/20 [==============================] - 4s 198ms/step - loss: 2.4295e-04 - val_loss: 2.6428e-04\n",
            "Epoch 98/100\n",
            "20/20 [==============================] - 5s 234ms/step - loss: 3.0734e-04 - val_loss: 1.9864e-04\n",
            "Epoch 99/100\n",
            "20/20 [==============================] - 5s 252ms/step - loss: 2.7180e-04 - val_loss: 2.1497e-04\n",
            "Epoch 100/100\n",
            "20/20 [==============================] - 4s 223ms/step - loss: 2.6555e-04 - val_loss: 3.1221e-04\n"
          ]
        },
        {
          "output_type": "execute_result",
          "data": {
            "text/plain": [
              "<keras.callbacks.History at 0x7f878cb55090>"
            ]
          },
          "metadata": {},
          "execution_count": 45
        }
      ],
      "source": [
        "model.fit(X_train,y_train,validation_data=(X_test,y_test),epochs=100,batch_size=64,verbose=1)"
      ]
    },
    {
      "cell_type": "code",
      "execution_count": 47,
      "id": "8c740aa6",
      "metadata": {
        "id": "8c740aa6"
      },
      "outputs": [],
      "source": [
        "\n",
        "train_p=model.predict(X_train)\n",
        "test_p=model.predict(X_test)"
      ]
    },
    {
      "cell_type": "code",
      "execution_count": 48,
      "id": "9a40e3d9",
      "metadata": {
        "id": "9a40e3d9"
      },
      "outputs": [],
      "source": [
        " \n",
        "train_p=scaler.inverse_transform(train_p)\n",
        "test_p=scaler.inverse_transform(test_p)"
      ]
    },
    {
      "cell_type": "code",
      "execution_count": 49,
      "id": "7db849e0",
      "metadata": {
        "colab": {
          "base_uri": "https://localhost:8080/"
        },
        "id": "7db849e0",
        "outputId": "222393c6-dd3d-43b0-9dfd-82881f506af4"
      },
      "outputs": [
        {
          "output_type": "execute_result",
          "data": {
            "text/plain": [
              "119.65061701491676"
            ]
          },
          "metadata": {},
          "execution_count": 49
        }
      ],
      "source": [
        "\n",
        "import math\n",
        "from sklearn.metrics import mean_squared_error\n",
        "math.sqrt(mean_squared_error(y_test,test_p))"
      ]
    },
    {
      "cell_type": "code",
      "execution_count": 50,
      "id": "e6712f3d",
      "metadata": {
        "colab": {
          "base_uri": "https://localhost:8080/",
          "height": 265
        },
        "id": "e6712f3d",
        "outputId": "f12e35db-b80f-4256-b9c8-26085b7dcb4f"
      },
      "outputs": [
        {
          "output_type": "display_data",
          "data": {
            "text/plain": [
              "<Figure size 432x288 with 1 Axes>"
            ],
            "image/png": "[encoded data removed]"
          },
          "metadata": {
            "needs_background": "light"
          }
        }
      ],
      "source": [
        "\n",
        "look_back=100\n",
        "trainPredictPlot = np.empty_like(df1)\n",
        "trainPredictPlot[:, :] = np.nan\n",
        "trainPredictPlot[look_back:len(train_p)+look_back, :] = train_p\n",
        "testPredictPlot = np.empty_like(df1)\n",
        "testPredictPlot[:, :] = np.nan\n",
        "testPredictPlot[len(train_p)+(look_back*2)+1:len(df1)-1, :] = test_p\n",
        "plt.plot(scaler.inverse_transform(df1))\n",
        "plt.plot(trainPredictPlot)\n",
        "plt.plot(testPredictPlot)\n",
        "plt.show()"
      ]
    }
  ],
  "metadata": {
    "kernelspec": {
      "display_name": "Python 3 (ipykernel)",
      "language": "python",
      "name": "python3"
    },
    "language_info": {
      "codemirror_mode": {
        "name": "ipython",
        "version": 3
      },
      "file_extension": ".py",
      "mimetype": "text/x-python",
      "name": "python",
      "nbconvert_exporter": "python",
      "pygments_lexer": "ipython3",
      "version": "3.9.6"
    },
    "colab": {
      "name": "Stock Prediction.ipynb",
      "provenance": []
    }
  },
  "nbformat": 4,
  "nbformat_minor": 5
}